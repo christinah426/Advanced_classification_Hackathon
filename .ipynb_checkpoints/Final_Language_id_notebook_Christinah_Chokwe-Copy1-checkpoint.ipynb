{
 "cells": [
  {
   "cell_type": "markdown",
   "id": "b5872a4c",
   "metadata": {},
   "source": [
    " ###                           Language Identification Hackathon"
   ]
  },
  {
   "cell_type": "markdown",
   "id": "5cc0480a",
   "metadata": {},
   "source": [
    "### Author\n",
    "Christinah Chokwe"
   ]
  },
  {
   "cell_type": "markdown",
   "id": "9dd4f394",
   "metadata": {},
   "source": [
    "### Introduction\n",
    "South Africa is a diverse country that is rich with cultures and languages. The country has 11 official languages, with the most spoken language being Zulu, spoken by 22.7% of the population followed by Afrikaans with 13.59%. It is therefore vital that services and products that are offered to South Aficans cater to this diversity in languages."
   ]
  },
  {
   "cell_type": "markdown",
   "id": "3bace27c",
   "metadata": {},
   "source": [
    "### Problem Statement\n",
    "In this project we will use Natural Langauge processing to build a model that will be able to take text from any of the 11 official languages and predict the language from a text. "
   ]
  },
  {
   "cell_type": "markdown",
   "id": "07576557",
   "metadata": {},
   "source": [
    "### Objectives\n",
    "* Data preprocessing\n",
    "* Build different models to predict the language in a text\n",
    "* Compare the models\n",
    "* Submit the predictions to kaggle"
   ]
  },
  {
   "cell_type": "markdown",
   "id": "117a84cf",
   "metadata": {},
   "source": [
    "#### Importing Libraries"
   ]
  },
  {
   "cell_type": "code",
   "execution_count": 1,
   "id": "ba918551",
   "metadata": {},
   "outputs": [],
   "source": [
    "# Database manipulation\n",
    "import pandas as pd\n",
    "import numpy as np\n",
    "\n",
    "# Visualization\n",
    "import matplotlib.pyplot as plt\n",
    "import seaborn as sns\n",
    "%matplotlib inline\n",
    "from wordcloud import WordCloud\n",
    "\n",
    "# libraries for data processing\n",
    "import nltk\n",
    "from nltk.corpus import stopwords, wordnet\n",
    "import re\n",
    "import string\n",
    "from sklearn.feature_extraction.text import CountVectorizer, TfidfVectorizer\n",
    "\n",
    "\n",
    "# Packages to create models\n",
    "from sklearn.naive_bayes import MultinomialNB\n",
    "from sklearn.linear_model import LogisticRegression\n",
    "\n",
    "#Packages for data modelling\n",
    "from sklearn.model_selection import train_test_split\n",
    "from sklearn.ensemble import RandomForestClassifier\n",
    "from sklearn.naive_bayes import MultinomialNB\n",
    "from sklearn.svm import LinearSVC\n",
    "from sklearn.model_selection import GridSearchCV, StratifiedKFold\n",
    "from sklearn.pipeline import Pipeline\n",
    "\n",
    "#Packafes to assess the accuracy of the models\n",
    "from sklearn.metrics import classification_report, f1_score, accuracy_score\n",
    "from sklearn.utils import resample\n",
    "\n",
    "import warnings\n",
    "warnings.filterwarnings('ignore')"
   ]
  },
  {
   "cell_type": "markdown",
   "id": "43739863",
   "metadata": {},
   "source": [
    "#### Loading and reading data"
   ]
  },
  {
   "cell_type": "code",
   "execution_count": 2,
   "id": "b15eb819",
   "metadata": {},
   "outputs": [],
   "source": [
    "df = pd.read_csv('train_set.csv')"
   ]
  },
  {
   "cell_type": "code",
   "execution_count": 6,
   "id": "ba0d45a6",
   "metadata": {},
   "outputs": [
    {
     "data": {
      "text/html": [
       "<div>\n",
       "<style scoped>\n",
       "    .dataframe tbody tr th:only-of-type {\n",
       "        vertical-align: middle;\n",
       "    }\n",
       "\n",
       "    .dataframe tbody tr th {\n",
       "        vertical-align: top;\n",
       "    }\n",
       "\n",
       "    .dataframe thead th {\n",
       "        text-align: right;\n",
       "    }\n",
       "</style>\n",
       "<table border=\"1\" class=\"dataframe\">\n",
       "  <thead>\n",
       "    <tr style=\"text-align: right;\">\n",
       "      <th></th>\n",
       "      <th>lang_id</th>\n",
       "      <th>text</th>\n",
       "    </tr>\n",
       "  </thead>\n",
       "  <tbody>\n",
       "    <tr>\n",
       "      <th>0</th>\n",
       "      <td>xho</td>\n",
       "      <td>umgaqo-siseko wenza amalungiselelo kumaziko ax...</td>\n",
       "    </tr>\n",
       "    <tr>\n",
       "      <th>1</th>\n",
       "      <td>xho</td>\n",
       "      <td>i-dha iya kuba nobulumko bokubeka umsebenzi na...</td>\n",
       "    </tr>\n",
       "    <tr>\n",
       "      <th>2</th>\n",
       "      <td>eng</td>\n",
       "      <td>the province of kwazulu-natal department of tr...</td>\n",
       "    </tr>\n",
       "    <tr>\n",
       "      <th>3</th>\n",
       "      <td>nso</td>\n",
       "      <td>o netefatša gore o ba file dilo ka moka tše le...</td>\n",
       "    </tr>\n",
       "    <tr>\n",
       "      <th>4</th>\n",
       "      <td>ven</td>\n",
       "      <td>khomishini ya ndinganyiso ya mbeu yo ewa maana...</td>\n",
       "    </tr>\n",
       "  </tbody>\n",
       "</table>\n",
       "</div>"
      ],
      "text/plain": [
       "  lang_id                                               text\n",
       "0     xho  umgaqo-siseko wenza amalungiselelo kumaziko ax...\n",
       "1     xho  i-dha iya kuba nobulumko bokubeka umsebenzi na...\n",
       "2     eng  the province of kwazulu-natal department of tr...\n",
       "3     nso  o netefatša gore o ba file dilo ka moka tše le...\n",
       "4     ven  khomishini ya ndinganyiso ya mbeu yo ewa maana..."
      ]
     },
     "execution_count": 6,
     "metadata": {},
     "output_type": "execute_result"
    }
   ],
   "source": [
    "df.head()"
   ]
  },
  {
   "cell_type": "code",
   "execution_count": 7,
   "id": "9963c6c8",
   "metadata": {},
   "outputs": [
    {
     "data": {
      "text/plain": [
       "(33000, 2)"
      ]
     },
     "execution_count": 7,
     "metadata": {},
     "output_type": "execute_result"
    }
   ],
   "source": [
    "df.shape"
   ]
  },
  {
   "cell_type": "code",
   "execution_count": 8,
   "id": "02f24f5f",
   "metadata": {},
   "outputs": [
    {
     "name": "stdout",
     "output_type": "stream",
     "text": [
      "The number of columns in the data is:   2\n",
      "The number of rows in the data is:   33000\n"
     ]
    }
   ],
   "source": [
    "print('The number of columns in the data is:  ', len(df.columns))\n",
    "print('The number of rows in the data is:  ', len(df))"
   ]
  },
  {
   "cell_type": "code",
   "execution_count": 9,
   "id": "4ef18d61",
   "metadata": {},
   "outputs": [
    {
     "name": "stdout",
     "output_type": "stream",
     "text": [
      "<class 'pandas.core.frame.DataFrame'>\n",
      "RangeIndex: 33000 entries, 0 to 32999\n",
      "Data columns (total 2 columns):\n",
      " #   Column   Non-Null Count  Dtype \n",
      "---  ------   --------------  ----- \n",
      " 0   lang_id  33000 non-null  object\n",
      " 1   text     33000 non-null  object\n",
      "dtypes: object(2)\n",
      "memory usage: 515.8+ KB\n"
     ]
    }
   ],
   "source": [
    "df.info()"
   ]
  },
  {
   "cell_type": "markdown",
   "id": "737b9882",
   "metadata": {},
   "source": [
    "* It is observed from the results above that the dataset has 2 rows with object datatype\n",
    "* There are no missing values in the dataset"
   ]
  },
  {
   "cell_type": "code",
   "execution_count": 10,
   "id": "8ff9a78f",
   "metadata": {},
   "outputs": [
    {
     "data": {
      "text/plain": [
       "11"
      ]
     },
     "execution_count": 10,
     "metadata": {},
     "output_type": "execute_result"
    }
   ],
   "source": [
    "#Checking for the number of unique Languages in the dataset\n",
    "df['lang_id'].nunique()"
   ]
  },
  {
   "cell_type": "code",
   "execution_count": 11,
   "id": "ea08e3e1",
   "metadata": {},
   "outputs": [
    {
     "data": {
      "text/plain": [
       "array(['xho', 'eng', 'nso', 'ven', 'tsn', 'nbl', 'zul', 'ssw', 'tso',\n",
       "       'sot', 'afr'], dtype=object)"
      ]
     },
     "execution_count": 11,
     "metadata": {},
     "output_type": "execute_result"
    }
   ],
   "source": [
    "#Checking for unique languages\n",
    "df['lang_id'].unique()"
   ]
  },
  {
   "cell_type": "markdown",
   "id": "30ee47cc",
   "metadata": {},
   "source": [
    "The response variable has 11 uniques values, which are the 11 official languages in South Africa"
   ]
  },
  {
   "cell_type": "code",
   "execution_count": 12,
   "id": "37f958ce",
   "metadata": {},
   "outputs": [
    {
     "data": {
      "text/plain": [
       "xho    3000\n",
       "nso    3000\n",
       "afr    3000\n",
       "ssw    3000\n",
       "nbl    3000\n",
       "ven    3000\n",
       "eng    3000\n",
       "sot    3000\n",
       "zul    3000\n",
       "tso    3000\n",
       "tsn    3000\n",
       "Name: lang_id, dtype: int64"
      ]
     },
     "execution_count": 12,
     "metadata": {},
     "output_type": "execute_result"
    }
   ],
   "source": [
    "#Calculating the count for each response value\n",
    "df['lang_id'].value_counts()"
   ]
  },
  {
   "cell_type": "code",
   "execution_count": 19,
   "id": "b2ba9944",
   "metadata": {},
   "outputs": [
    {
     "data": {
      "image/png": "[encoded data removed]",
      "text/plain": [
       "<Figure size 1080x504 with 1 Axes>"
      ]
     },
     "metadata": {},
     "output_type": "display_data"
    }
   ],
   "source": [
    "Responses = df['lang_id']\n",
    " #Creating a countplot for the response values\n",
    "sns.set(rc={'figure.figsize':(15,7)})\n",
    "ax=sns.countplot(x=Responses, data=df)\n",
    "    \n",
    "total = len(Responses) # length of the column\n",
    "for p in ax.patches:\n",
    "    percentage = '{:.1f}%'.format(100 * p.get_height()/total) # percentage of each class of the languages\n",
    "    x = p.get_x() + p.get_width() / 2 - 0.1 # width of the plot\n",
    "    y = p.get_y() + p.get_height()           # heightt of the plot\n",
    "    ax.annotate(percentage, (x, y), size = 14) # annotate the percantage \n",
    "plt.show() # show the plot"
   ]
  },
  {
   "cell_type": "markdown",
   "id": "e60baf8c",
   "metadata": {},
   "source": [
    "The results above (Value_count and Bar graph) show that the data for the different classes is balanced and therefore there will be no need for resampling."
   ]
  },
  {
   "cell_type": "markdown",
   "id": "015d4629",
   "metadata": {},
   "source": [
    "### Data Preprocessing"
   ]
  },
  {
   "cell_type": "markdown",
   "id": "ab7377c2",
   "metadata": {},
   "source": [
    "* We will create a copy of the dataframe on which we will do all the preprocessing.\n",
    "* Then we will create a preprocessing function that will:\n",
    "1. Remove 'English' stopwords\n",
    "2. Remove punctuations and numbers\n",
    "* This function will then be applied to the 'text column' of the dataframe."
   ]
  },
  {
   "cell_type": "code",
   "execution_count": 3,
   "id": "62196d9d",
   "metadata": {},
   "outputs": [],
   "source": [
    "df_copy = df"
   ]
  },
  {
   "cell_type": "code",
   "execution_count": 4,
   "id": "de91784d",
   "metadata": {},
   "outputs": [],
   "source": [
    "def preprocessing(text):\n",
    "    \"'Function to convert a raw text to a string of words processed text'\"\n",
    "    \n",
    "    #Remove non-letters        \n",
    "    text = re.sub(\"[^a-zA-Z]\", \" \", text)\n",
    "    #Convert to lower case, split into individual words\n",
    "    text = text.lower().split() \n",
    "    #Remove stopwords\n",
    "    stop_words = set(stopwords.words(\"english\")) \n",
    "    text = [w for w in text if not w in stop_words] \n",
    "    #Removing punctuations\n",
    "    punct = string.punctuation + '0123456789'\n",
    "    clean_text=[word for word in text if word not in punct]  \n",
    "                    \n",
    "    return( \" \".join(clean_text))\n",
    "\n"
   ]
  },
  {
   "cell_type": "code",
   "execution_count": 5,
   "id": "1c514110",
   "metadata": {},
   "outputs": [],
   "source": [
    "# Get the number of texts based on the dataframe column size\n",
    "num_text = df_copy[\"text\"].size\n",
    "\n",
    "# Initialize an empty list to hold the clean text\n",
    "clean_text = []\n",
    "\n",
    "# Loop over each text; create an index i that goes from 0 to the length\n",
    "# of the text list \n",
    "for i in range( 0, num_text):\n",
    "    # Call our function for each one, and add the result to the list of\n",
    "    # clean texts\n",
    "    clean_text.append( preprocessing( df_copy[\"text\"][i] ) )\n",
    "     "
   ]
  },
  {
   "cell_type": "markdown",
   "id": "769c002e",
   "metadata": {},
   "source": [
    "Checking the head of the preprocessed data to see if the changes were made."
   ]
  },
  {
   "cell_type": "code",
   "execution_count": 6,
   "id": "e05cf378",
   "metadata": {},
   "outputs": [
    {
     "data": {
      "text/plain": [
       "0    umgaqo siseko wenza amalungiselelo kumaziko ax...\n",
       "1    dha iya kuba nobulumko bokubeka umsebenzi naph...\n",
       "2    province kwazulu natal department transport in...\n",
       "3    netefat gore ba file dilo ka moka e le dumelel...\n",
       "4    khomishini ya ndinganyiso ya mbeu yo ewa maana...\n",
       "Name: clean_text, dtype: object"
      ]
     },
     "execution_count": 6,
     "metadata": {},
     "output_type": "execute_result"
    }
   ],
   "source": [
    "df_copy['clean_text'] = clean_text\n",
    "df_copy['clean_text'].head()"
   ]
  },
  {
   "cell_type": "markdown",
   "id": "ad13dabe",
   "metadata": {},
   "source": [
    "We drop the 'text' column of the df_copy dataframe since we will not be using it going forward."
   ]
  },
  {
   "cell_type": "code",
   "execution_count": 7,
   "id": "4bf63bc6",
   "metadata": {},
   "outputs": [
    {
     "data": {
      "text/html": [
       "<div>\n",
       "<style scoped>\n",
       "    .dataframe tbody tr th:only-of-type {\n",
       "        vertical-align: middle;\n",
       "    }\n",
       "\n",
       "    .dataframe tbody tr th {\n",
       "        vertical-align: top;\n",
       "    }\n",
       "\n",
       "    .dataframe thead th {\n",
       "        text-align: right;\n",
       "    }\n",
       "</style>\n",
       "<table border=\"1\" class=\"dataframe\">\n",
       "  <thead>\n",
       "    <tr style=\"text-align: right;\">\n",
       "      <th></th>\n",
       "      <th>lang_id</th>\n",
       "      <th>clean_text</th>\n",
       "    </tr>\n",
       "  </thead>\n",
       "  <tbody>\n",
       "    <tr>\n",
       "      <th>0</th>\n",
       "      <td>xho</td>\n",
       "      <td>umgaqo siseko wenza amalungiselelo kumaziko ax...</td>\n",
       "    </tr>\n",
       "    <tr>\n",
       "      <th>1</th>\n",
       "      <td>xho</td>\n",
       "      <td>dha iya kuba nobulumko bokubeka umsebenzi naph...</td>\n",
       "    </tr>\n",
       "    <tr>\n",
       "      <th>2</th>\n",
       "      <td>eng</td>\n",
       "      <td>province kwazulu natal department transport in...</td>\n",
       "    </tr>\n",
       "    <tr>\n",
       "      <th>3</th>\n",
       "      <td>nso</td>\n",
       "      <td>netefat gore ba file dilo ka moka e le dumelel...</td>\n",
       "    </tr>\n",
       "    <tr>\n",
       "      <th>4</th>\n",
       "      <td>ven</td>\n",
       "      <td>khomishini ya ndinganyiso ya mbeu yo ewa maana...</td>\n",
       "    </tr>\n",
       "    <tr>\n",
       "      <th>...</th>\n",
       "      <td>...</td>\n",
       "      <td>...</td>\n",
       "    </tr>\n",
       "    <tr>\n",
       "      <th>32995</th>\n",
       "      <td>tsn</td>\n",
       "      <td>popo ya dipolateforomo tse ke go tlisa boetele...</td>\n",
       "    </tr>\n",
       "    <tr>\n",
       "      <th>32996</th>\n",
       "      <td>sot</td>\n",
       "      <td>modise mosadi na ntse sa utlwe hore thabang ra...</td>\n",
       "    </tr>\n",
       "    <tr>\n",
       "      <th>32997</th>\n",
       "      <td>eng</td>\n",
       "      <td>closing date submission completed tenders augu...</td>\n",
       "    </tr>\n",
       "    <tr>\n",
       "      <th>32998</th>\n",
       "      <td>xho</td>\n",
       "      <td>nawuphina umntu ofunyenwe enetyala phantsi kwa...</td>\n",
       "    </tr>\n",
       "    <tr>\n",
       "      <th>32999</th>\n",
       "      <td>sot</td>\n",
       "      <td>mafapha mang le ona lokela ho etsa ditlaleho t...</td>\n",
       "    </tr>\n",
       "  </tbody>\n",
       "</table>\n",
       "<p>33000 rows × 2 columns</p>\n",
       "</div>"
      ],
      "text/plain": [
       "      lang_id                                         clean_text\n",
       "0         xho  umgaqo siseko wenza amalungiselelo kumaziko ax...\n",
       "1         xho  dha iya kuba nobulumko bokubeka umsebenzi naph...\n",
       "2         eng  province kwazulu natal department transport in...\n",
       "3         nso  netefat gore ba file dilo ka moka e le dumelel...\n",
       "4         ven  khomishini ya ndinganyiso ya mbeu yo ewa maana...\n",
       "...       ...                                                ...\n",
       "32995     tsn  popo ya dipolateforomo tse ke go tlisa boetele...\n",
       "32996     sot  modise mosadi na ntse sa utlwe hore thabang ra...\n",
       "32997     eng  closing date submission completed tenders augu...\n",
       "32998     xho  nawuphina umntu ofunyenwe enetyala phantsi kwa...\n",
       "32999     sot  mafapha mang le ona lokela ho etsa ditlaleho t...\n",
       "\n",
       "[33000 rows x 2 columns]"
      ]
     },
     "execution_count": 7,
     "metadata": {},
     "output_type": "execute_result"
    }
   ],
   "source": [
    "df_copy.drop(['text'], axis = 1)"
   ]
  },
  {
   "cell_type": "markdown",
   "id": "d7809075",
   "metadata": {},
   "source": [
    "### Model Building"
   ]
  },
  {
   "cell_type": "markdown",
   "id": "a4fbc3a0",
   "metadata": {},
   "source": [
    "We will traing three different models and compare their f1-score. The model with the best f1-score will then be adopted as the final model."
   ]
  },
  {
   "cell_type": "markdown",
   "id": "d00b5fe5",
   "metadata": {},
   "source": [
    "Assigning the x-values and y-values"
   ]
  },
  {
   "cell_type": "code",
   "execution_count": 8,
   "id": "eb038c48",
   "metadata": {},
   "outputs": [],
   "source": [
    "X = df_copy['clean_text']\n",
    "y = df_copy['lang_id']\n",
    "X1 = df_copy['clean_text']\n",
    "y1 = df_copy['lang_id']"
   ]
  },
  {
   "cell_type": "markdown",
   "id": "d49b6fda",
   "metadata": {},
   "source": [
    "Splitting the data into the training and test data in preparation for model building."
   ]
  },
  {
   "cell_type": "code",
   "execution_count": 11,
   "id": "70f38df1",
   "metadata": {},
   "outputs": [],
   "source": [
    "X_train, X_test, y_train, y_test = train_test_split(X, y, test_size = 0.2, random_state = 42)"
   ]
  },
  {
   "cell_type": "code",
   "execution_count": 9,
   "id": "117214b5",
   "metadata": {},
   "outputs": [],
   "source": [
    "X1_train, X1_test, y1_train, y1_test = train_test_split(X1, y1, test_size=0.1, shuffle =True, stratify=y1,random_state = 11)"
   ]
  },
  {
   "cell_type": "markdown",
   "id": "316ea7c7",
   "metadata": {},
   "source": [
    "#### Transforming the text to numeric using TfidfVectorizer"
   ]
  },
  {
   "cell_type": "code",
   "execution_count": 13,
   "id": "fada13f2",
   "metadata": {},
   "outputs": [],
   "source": [
    "#Instatiating the Tfidf vectorizer\n",
    "tfidf_vect = TfidfVectorizer(ngram_range=(1, 2),min_df = 2, max_features = 5000)"
   ]
  },
  {
   "cell_type": "code",
   "execution_count": 14,
   "id": "3fc0d83c",
   "metadata": {},
   "outputs": [],
   "source": [
    "#Transforming both the training and test sets to numeric\n",
    "X_train = tfidf_vect.fit_transform(X_train).toarray() \n",
    "X_test = tfidf_vect.fit_transform(X_test).toarray() \n"
   ]
  },
  {
   "cell_type": "markdown",
   "id": "131a65a9",
   "metadata": {},
   "source": [
    "### Model Training"
   ]
  },
  {
   "cell_type": "markdown",
   "id": "c1159eca",
   "metadata": {},
   "source": [
    "#### Logistic Regression"
   ]
  },
  {
   "cell_type": "markdown",
   "id": "3a5efcb6",
   "metadata": {},
   "source": [
    "We will start will the Logistic regression which is simple model. This model is used to predict the probability of a class occuring."
   ]
  },
  {
   "cell_type": "code",
   "execution_count": 11,
   "id": "483da882",
   "metadata": {},
   "outputs": [
    {
     "data": {
      "text/plain": [
       "LogisticRegression()"
      ]
     },
     "execution_count": 11,
     "metadata": {},
     "output_type": "execute_result"
    }
   ],
   "source": [
    "lr = LogisticRegression()\n",
    "lr.fit(X_train, y_train)"
   ]
  },
  {
   "cell_type": "code",
   "execution_count": 12,
   "id": "cdefdb04",
   "metadata": {},
   "outputs": [
    {
     "name": "stdout",
     "output_type": "stream",
     "text": [
      "f1 train score: 0.9957318275216104\n",
      "f1 test score: 0.09019620952825225\n"
     ]
    }
   ],
   "source": [
    "# Generate predictions\n",
    "y_pred_test = lr.predict(X_test)\n",
    "y_pred_train = lr.predict(X_train)\n",
    "#Asssessing the f1_score of the model\n",
    "f1score_train = f1_score(y_pred_train, y_train, average = 'macro')\n",
    "f1score = f1_score(y_test, y_pred_test, average= 'macro')\n",
    "print('f1 train score:', f1score_train)\n",
    "print('f1 test score:', f1score)"
   ]
  },
  {
   "cell_type": "markdown",
   "id": "ec81b61f",
   "metadata": {},
   "source": [
    "#### Random Forest Classification"
   ]
  },
  {
   "cell_type": "markdown",
   "id": "774fe44f",
   "metadata": {},
   "source": [
    "Random forest classification tend to perform better than Logistic regression when the response variable is categorical."
   ]
  },
  {
   "cell_type": "code",
   "execution_count": 13,
   "id": "2777762b",
   "metadata": {},
   "outputs": [
    {
     "name": "stdout",
     "output_type": "stream",
     "text": [
      "The training f1scores were:[0.9957318275216104, 0.9957318275216104, 0.9957318275216104, 0.9957318275216104, 0.9957318275216104, 0.9957318275216104, 0.9957318275216104, 0.9957318275216104]\n",
      "Training testing f1scores were:[0.09019620952825225, 0.09019620952825225, 0.09019620952825225, 0.09019620952825225, 0.09019620952825225, 0.09019620952825225, 0.09019620952825225, 0.09019620952825225]\n"
     ]
    }
   ],
   "source": [
    "train_scores,test_scores = [],[]\n",
    "for i in [1,2,3,4,5,10,20,50]:\n",
    "    rfc = RandomForestClassifier(n_estimators = i, random_state = 42)\n",
    "    rfc = rfc.fit(X_train,y_train)\n",
    "#Create predictions for the X_train and y_test datasets\n",
    "    train_pred = rfc.predict(X_train)\n",
    "    test_pred = rfc.predict(X_test)\n",
    "#Append the accuracy score fpr the test and train predictions\n",
    "    train_scores.append(f1_score(y_pred_train, y_train, average = 'macro'))\n",
    "    test_scores.append(f1_score(y_test, y_pred_test, average= 'macro'))\n",
    "#Print the train and test scores\n",
    "print('The training f1scores were:{}'.format(train_scores))\n",
    "print('Training testing f1scores were:{}'.format(test_scores))"
   ]
  },
  {
   "cell_type": "code",
   "execution_count": 18,
   "id": "9fca4b34",
   "metadata": {},
   "outputs": [
    {
     "name": "stdout",
     "output_type": "stream",
     "text": [
      "f1 test score: 0.208871297099335\n"
     ]
    }
   ],
   "source": [
    "rfc = RandomForestClassifier(n_estimators = 100, random_state = 42)\n",
    "rfc = rfc.fit(X_train,y_train)\n",
    "test_pred = rfc.predict(X_test)\n",
    "f1score1 = f1_score(test_pred,y_test, average= 'macro')\n",
    "print('f1 test score:', f1score1)"
   ]
  },
  {
   "cell_type": "markdown",
   "id": "3f34027f",
   "metadata": {},
   "source": [
    "The two models are performing poorly with the test data. Next, we will build a multinomial NB model which works better with text data. These models seem to be underfitting the data based on the training and test f1 scores"
   ]
  },
  {
   "cell_type": "markdown",
   "id": "e5da9683",
   "metadata": {},
   "source": [
    "#### Multinomial NB"
   ]
  },
  {
   "cell_type": "code",
   "execution_count": 10,
   "id": "bbc97057",
   "metadata": {},
   "outputs": [
    {
     "name": "stdout",
     "output_type": "stream",
     "text": [
      "              precision    recall  f1-score   support\n",
      "\n",
      "         afr       1.00      1.00      1.00       300\n",
      "         eng       0.99      1.00      1.00       300\n",
      "         nbl       1.00      1.00      1.00       300\n",
      "         nso       1.00      1.00      1.00       300\n",
      "         sot       1.00      1.00      1.00       300\n",
      "         ssw       1.00      1.00      1.00       300\n",
      "         tsn       1.00      1.00      1.00       300\n",
      "         tso       1.00      1.00      1.00       300\n",
      "         ven       1.00      1.00      1.00       300\n",
      "         xho       1.00      1.00      1.00       300\n",
      "         zul       1.00      1.00      1.00       300\n",
      "\n",
      "    accuracy                           1.00      3300\n",
      "   macro avg       1.00      1.00      1.00      3300\n",
      "weighted avg       1.00      1.00      1.00      3300\n",
      " 2\n"
     ]
    }
   ],
   "source": [
    "#Multinomial NB\n",
    "paramgrid ={'alpha':[0.01,0.1,1] }\n",
    "multi = Pipeline([('tfidf', TfidfVectorizer(ngram_range=(1,2), min_df=2)),\n",
    "                 ('clf',GridSearchCV(MultinomialNB(),\n",
    "                                   param_grid=paramgrid,\n",
    "                                   cv=10,\n",
    "                                   n_jobs= -1) )])\n",
    "multi.fit(X1_train,y1_train)\n",
    "y1_pred = multi.predict(X1_test)\n",
    "print(classification_report(y1_test, y1_pred),2)\n",
    "multi_nb = classification_report(y1_test, y1_pred, output_dict=True)\n"
   ]
  },
  {
   "cell_type": "code",
   "execution_count": 15,
   "id": "2d7f65a0",
   "metadata": {},
   "outputs": [
    {
     "name": "stdout",
     "output_type": "stream",
     "text": [
      "Multinomial f1_score2: 0.9987883787976574\n"
     ]
    }
   ],
   "source": [
    "f1score3 = f1_score(y1_pred, y1_test, average= 'macro')\n",
    "print('Multinomial f1_score:', f1score3)"
   ]
  },
  {
   "cell_type": "code",
   "execution_count": 16,
   "id": "6eb20900",
   "metadata": {},
   "outputs": [
    {
     "ename": "NameError",
     "evalue": "name 'f1score' is not defined",
     "output_type": "error",
     "traceback": [
      "\u001b[1;31m---------------------------------------------------------------------------\u001b[0m",
      "\u001b[1;31mNameError\u001b[0m                                 Traceback (most recent call last)",
      "\u001b[1;32m<ipython-input-16-f76fa2672809>\u001b[0m in \u001b[0;36m<module>\u001b[1;34m\u001b[0m\n\u001b[0;32m      2\u001b[0m                           \u001b[1;34m'MultinomialNB'\u001b[0m\u001b[1;33m,\u001b[0m\u001b[1;33m\u001b[0m\u001b[1;33m\u001b[0m\u001b[0m\n\u001b[0;32m      3\u001b[0m                              ],\n\u001b[1;32m----> 4\u001b[1;33m                    'f1_score' : [f1score, f1score1,\n\u001b[0m\u001b[0;32m      5\u001b[0m                                  f1score2,]\n\u001b[0;32m      6\u001b[0m                                  }\n",
      "\u001b[1;31mNameError\u001b[0m: name 'f1score' is not defined"
     ]
    }
   ],
   "source": [
    "models = {'model_name' : ['LogisticRegression_1', 'RandomForestClassifier', \n",
    "                          'MultinomialNB',\n",
    "                             ],\n",
    "                   'f1_score' : [f1score, f1score1,\n",
    "                                 f1score2,]\n",
    "                                 }\n",
    "\n",
    "\n",
    "models_df = pd.DataFrame(models)"
   ]
  },
  {
   "cell_type": "markdown",
   "id": "468ebf8f",
   "metadata": {},
   "source": [
    "We used a classification report to assess the performance of the model with regards to the different response variables, and it is observed that the model performs very well with regards to the response variables. The accuracy score of the model also shows that overall the model perfoms very well. "
   ]
  },
  {
   "cell_type": "markdown",
   "id": "50c4c25a",
   "metadata": {},
   "source": [
    "### Conclusion\n",
    "The Multinomial NB model performed better than the both the logistivc regression and the Random forest classification model. Therefore this model will be adopted as the final model.\n",
    "The models could still be optimised further ith model validation."
   ]
  },
  {
   "cell_type": "markdown",
   "id": "f98d6e32",
   "metadata": {},
   "source": [
    "### Kaggle submission"
   ]
  },
  {
   "cell_type": "code",
   "execution_count": 11,
   "id": "c8628775",
   "metadata": {},
   "outputs": [
    {
     "name": "stdout",
     "output_type": "stream",
     "text": [
      "(5682, 2)\n",
      "Cleaning and parsing the test set texts...\n",
      "\n",
      "Review 1000 of 5682\n",
      "\n",
      "Review 2000 of 5682\n",
      "\n",
      "Review 3000 of 5682\n",
      "\n",
      "Review 4000 of 5682\n",
      "\n",
      "Review 5000 of 5682\n",
      "\n"
     ]
    }
   ],
   "source": [
    "# Read the test data\n",
    "test = pd.read_csv(\"test_set.csv\")\n",
    "\n",
    "# Verify that there are rows and 2 columns\n",
    "print (test.shape)\n",
    "\n",
    "# Create an empty list and append the clean text one by one\n",
    "num_text = len(test[\"text\"])\n",
    "clean_test_text = [] \n",
    "\n",
    "print (\"Cleaning and parsing the test set texts...\\n\")\n",
    "for i in range(0,num_text):\n",
    "    if( (i+1) % 1000 == 0 ):\n",
    "        print (\"Review %d of %d\\n\" % (i+1, num_text))\n",
    "    clean_text = preprocessing( test[\"text\"][i] )\n",
    "    clean_test_text.append( clean_text )\n",
    "test['clean_text'] = clean_test_text\n",
    "\n",
    "# Use the MultinomialNB to make sentiment label predictions\n",
    "result =  multi.predict(test['clean_text'])\n",
    "\n",
    "# Copy the results to a pandas dataframe with an \"index\" column and\n",
    "# a \"lang_id\" column\n",
    "output = pd.DataFrame( data={\"index\":test[\"index\"], \"lang_id\":result} )\n",
    "\n",
    "# Use pandas to write the comma-separated output file\n",
    "output.to_csv( \"multi10.csv\", index=False, quoting=3 )"
   ]
  }
 ],
 "metadata": {
  "kernelspec": {
   "display_name": "Python 3",
   "language": "python",
   "name": "python3"
  },
  "language_info": {
   "codemirror_mode": {
    "name": "ipython",
    "version": 3
   },
   "file_extension": ".py",
   "mimetype": "text/x-python",
   "name": "python",
   "nbconvert_exporter": "python",
   "pygments_lexer": "ipython3",
   "version": "3.8.8"
  }
 },
 "nbformat": 4,
 "nbformat_minor": 5
}
