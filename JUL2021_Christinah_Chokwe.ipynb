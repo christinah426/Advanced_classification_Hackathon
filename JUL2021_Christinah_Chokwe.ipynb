{
 "cells": [
  {
   "cell_type": "markdown",
   "id": "3468ce57",
   "metadata": {},
   "source": [
    "### Importing Libraries"
   ]
  },
  {
   "cell_type": "code",
   "execution_count": 56,
   "id": "3371d0cf",
   "metadata": {},
   "outputs": [],
   "source": [
    "import pandas as pd\n",
    "# libraries for visualization\n",
    "import matplotlib.pyplot as plt\n",
    "import seaborn as sns\n",
    "%matplotlib inline\n",
    "from wordcloud import WordCloud\n",
    "from sklearn.feature_extraction.text import CountVectorizer\n",
    "from sklearn.feature_extraction.text import TfidfVectorizer\n",
    "from sklearn.preprocessing import LabelEncoder\n",
    "from sklearn.model_selection import train_test_split\n",
    "from sklearn.linear_model import LogisticRegression\n",
    "from sklearn.metrics import classification_report, f1_score"
   ]
  },
  {
   "cell_type": "markdown",
   "id": "388657a8",
   "metadata": {},
   "source": [
    "### Loading the dataset"
   ]
  },
  {
   "cell_type": "code",
   "execution_count": 34,
   "id": "7ab4fbfe",
   "metadata": {},
   "outputs": [],
   "source": [
    "df = pd.read_csv('train_set.csv')"
   ]
  },
  {
   "cell_type": "code",
   "execution_count": 3,
   "id": "86b14e67",
   "metadata": {},
   "outputs": [
    {
     "data": {
      "text/html": [
       "<div>\n",
       "<style scoped>\n",
       "    .dataframe tbody tr th:only-of-type {\n",
       "        vertical-align: middle;\n",
       "    }\n",
       "\n",
       "    .dataframe tbody tr th {\n",
       "        vertical-align: top;\n",
       "    }\n",
       "\n",
       "    .dataframe thead th {\n",
       "        text-align: right;\n",
       "    }\n",
       "</style>\n",
       "<table border=\"1\" class=\"dataframe\">\n",
       "  <thead>\n",
       "    <tr style=\"text-align: right;\">\n",
       "      <th></th>\n",
       "      <th>lang_id</th>\n",
       "      <th>text</th>\n",
       "    </tr>\n",
       "  </thead>\n",
       "  <tbody>\n",
       "    <tr>\n",
       "      <th>0</th>\n",
       "      <td>xho</td>\n",
       "      <td>umgaqo-siseko wenza amalungiselelo kumaziko ax...</td>\n",
       "    </tr>\n",
       "    <tr>\n",
       "      <th>1</th>\n",
       "      <td>xho</td>\n",
       "      <td>i-dha iya kuba nobulumko bokubeka umsebenzi na...</td>\n",
       "    </tr>\n",
       "    <tr>\n",
       "      <th>2</th>\n",
       "      <td>eng</td>\n",
       "      <td>the province of kwazulu-natal department of tr...</td>\n",
       "    </tr>\n",
       "    <tr>\n",
       "      <th>3</th>\n",
       "      <td>nso</td>\n",
       "      <td>o netefatša gore o ba file dilo ka moka tše le...</td>\n",
       "    </tr>\n",
       "    <tr>\n",
       "      <th>4</th>\n",
       "      <td>ven</td>\n",
       "      <td>khomishini ya ndinganyiso ya mbeu yo ewa maana...</td>\n",
       "    </tr>\n",
       "  </tbody>\n",
       "</table>\n",
       "</div>"
      ],
      "text/plain": [
       "  lang_id                                               text\n",
       "0     xho  umgaqo-siseko wenza amalungiselelo kumaziko ax...\n",
       "1     xho  i-dha iya kuba nobulumko bokubeka umsebenzi na...\n",
       "2     eng  the province of kwazulu-natal department of tr...\n",
       "3     nso  o netefatša gore o ba file dilo ka moka tše le...\n",
       "4     ven  khomishini ya ndinganyiso ya mbeu yo ewa maana..."
      ]
     },
     "execution_count": 3,
     "metadata": {},
     "output_type": "execute_result"
    }
   ],
   "source": [
    "df.head()"
   ]
  },
  {
   "cell_type": "code",
   "execution_count": 7,
   "id": "1eeef379",
   "metadata": {},
   "outputs": [
    {
     "data": {
      "text/plain": [
       "(33000, 2)"
      ]
     },
     "execution_count": 7,
     "metadata": {},
     "output_type": "execute_result"
    }
   ],
   "source": [
    "df.shape"
   ]
  },
  {
   "cell_type": "code",
   "execution_count": 10,
   "id": "fef3b54e",
   "metadata": {},
   "outputs": [
    {
     "name": "stdout",
     "output_type": "stream",
     "text": [
      "The number of columns in the data is:   2\n",
      "The number of rows in the data is:   33000\n"
     ]
    }
   ],
   "source": [
    "print('The number of columns in the data is:  ', len(df.columns))\n",
    "print('The number of rows in the data is:  ', len(df))"
   ]
  },
  {
   "cell_type": "code",
   "execution_count": 13,
   "id": "a5aec0e9",
   "metadata": {},
   "outputs": [
    {
     "name": "stdout",
     "output_type": "stream",
     "text": [
      "<class 'pandas.core.frame.DataFrame'>\n",
      "RangeIndex: 33000 entries, 0 to 32999\n",
      "Data columns (total 2 columns):\n",
      " #   Column   Non-Null Count  Dtype \n",
      "---  ------   --------------  ----- \n",
      " 0   lang_id  33000 non-null  object\n",
      " 1   text     33000 non-null  object\n",
      "dtypes: object(2)\n",
      "memory usage: 515.8+ KB\n"
     ]
    }
   ],
   "source": [
    "df.info()"
   ]
  },
  {
   "cell_type": "markdown",
   "id": "0616be5d",
   "metadata": {},
   "source": [
    "* There are no missing values\n",
    "* The two columns have object type data, which is not suitable for machine learning"
   ]
  },
  {
   "cell_type": "code",
   "execution_count": 12,
   "id": "b4120e83",
   "metadata": {},
   "outputs": [
    {
     "data": {
      "text/plain": [
       "11"
      ]
     },
     "execution_count": 12,
     "metadata": {},
     "output_type": "execute_result"
    }
   ],
   "source": [
    "#Checking for the number of unique Languages in the dataset\n",
    "df['lang_id'].nunique()"
   ]
  },
  {
   "cell_type": "code",
   "execution_count": 11,
   "id": "6dd98ec2",
   "metadata": {},
   "outputs": [
    {
     "data": {
      "text/plain": [
       "array(['xho', 'eng', 'nso', 'ven', 'tsn', 'nbl', 'zul', 'ssw', 'tso',\n",
       "       'sot', 'afr'], dtype=object)"
      ]
     },
     "execution_count": 11,
     "metadata": {},
     "output_type": "execute_result"
    }
   ],
   "source": [
    "#Checking for unique languages\n",
    "df['lang_id'].unique()"
   ]
  },
  {
   "cell_type": "code",
   "execution_count": 15,
   "id": "a40683ed",
   "metadata": {},
   "outputs": [
    {
     "data": {
      "text/plain": [
       "afr    3000\n",
       "ven    3000\n",
       "nbl    3000\n",
       "tsn    3000\n",
       "sot    3000\n",
       "xho    3000\n",
       "ssw    3000\n",
       "eng    3000\n",
       "tso    3000\n",
       "zul    3000\n",
       "nso    3000\n",
       "Name: lang_id, dtype: int64"
      ]
     },
     "execution_count": 15,
     "metadata": {},
     "output_type": "execute_result"
    }
   ],
   "source": [
    "#Calculating the count for each response value\n",
    "df['lang_id'].value_counts()"
   ]
  },
  {
   "cell_type": "code",
   "execution_count": 7,
   "id": "4aa97c4e",
   "metadata": {},
   "outputs": [],
   "source": [
    "def perc_on_bar(lang_id):\n",
    "    '''\n",
    "    plot\n",
    "    feature: lang_id\n",
    "    '''\n",
    "    #Creating a countplot for the response values\n",
    "    sns.set(rc={'figure.figsize':(15,7)})\n",
    "    ax=sns.countplot(x=lang_id, data=df)\n",
    "    \n",
    "    total = len(lang_id) # length of the column\n",
    "    for p in ax.patches:\n",
    "        percentage = '{:.1f}%'.format(100 * p.get_height()/total) # percentage of each class of the languages\n",
    "        x = p.get_x() + p.get_width() / 2 - 0.1 # width of the plot\n",
    "        y = p.get_y() + p.get_height()           # heightt of the plot\n",
    "        ax.annotate(percentage, (x, y), size = 14) # annotate the percantage \n",
    "        \n",
    "    plt.show() # show the plot"
   ]
  },
  {
   "cell_type": "code",
   "execution_count": 8,
   "id": "9d8d6ef0",
   "metadata": {},
   "outputs": [
    {
     "data": {
      "image/png": "[encoded data removed]",
      "text/plain": [
       "<Figure size 1080x504 with 1 Axes>"
      ]
     },
     "metadata": {},
     "output_type": "display_data"
    }
   ],
   "source": [
    "perc_on_bar(df['lang_id'])"
   ]
  },
  {
   "cell_type": "markdown",
   "id": "1b4aeff2",
   "metadata": {},
   "source": [
    "* It looks like the data is well distributed, there will be no need for resampling the data."
   ]
  },
  {
   "cell_type": "code",
   "execution_count": 11,
   "id": "a5a717a7",
   "metadata": {},
   "outputs": [
    {
     "data": {
      "text/plain": [
       "array([[<AxesSubplot:title={'center':'afr'}>,\n",
       "        <AxesSubplot:title={'center':'eng'}>,\n",
       "        <AxesSubplot:title={'center':'nbl'}>],\n",
       "       [<AxesSubplot:title={'center':'nso'}>,\n",
       "        <AxesSubplot:title={'center':'sot'}>,\n",
       "        <AxesSubplot:title={'center':'ssw'}>],\n",
       "       [<AxesSubplot:title={'center':'tsn'}>,\n",
       "        <AxesSubplot:title={'center':'tso'}>,\n",
       "        <AxesSubplot:title={'center':'ven'}>],\n",
       "       [<AxesSubplot:title={'center':'xho'}>,\n",
       "        <AxesSubplot:title={'center':'zul'}>, <AxesSubplot:>]],\n",
       "      dtype=object)"
      ]
     },
     "execution_count": 11,
     "metadata": {},
     "output_type": "execute_result"
    },
    {
     "data": {
      "image/png": "[encoded data removed]",
      "text/plain": [
       "<Figure size 864x720 with 12 Axes>"
      ]
     },
     "metadata": {},
     "output_type": "display_data"
    }
   ],
   "source": [
    "df_copy = df\n",
    "df_copy['len_df'] = df_copy['text'].apply(len)\n",
    "df_copy.hist(column='len_df', by = 'lang_id', bins = 50, figsize = (12,10))"
   ]
  },
  {
   "cell_type": "code",
   "execution_count": 30,
   "id": "fe763e1c",
   "metadata": {},
   "outputs": [],
   "source": [
    "df = df[['lang_id', 'text']].groupby('lang_id').count()"
   ]
  },
  {
   "cell_type": "code",
   "execution_count": 31,
   "id": "21be562f",
   "metadata": {},
   "outputs": [
    {
     "data": {
      "image/png": "[encoded data removed]",
      "text/plain": [
       "<Figure size 1080x504 with 1 Axes>"
      ]
     },
     "metadata": {},
     "output_type": "display_data"
    }
   ],
   "source": [
    "# Plot posts by personality types\n",
    "df.sort_values('text', ascending=False).plot(kind='bar')\n",
    "plt.show()"
   ]
  },
  {
   "cell_type": "code",
   "execution_count": 23,
   "id": "c939fc56",
   "metadata": {},
   "outputs": [],
   "source": [
    "from bs4 import BeautifulSoup\n",
    "import re\n",
    "from nltk.corpus import stopwords# Import the stop word list\n",
    "from wordcloud import WordCloud\n",
    "from nltk.stem import SnowballStemmer, PorterStemmer,WordNetLemmatizer"
   ]
  },
  {
   "cell_type": "code",
   "execution_count": 35,
   "id": "290ed546",
   "metadata": {},
   "outputs": [],
   "source": [
    "def msg_words(text):\n",
    "    # Function to convert a raw review to a string of words\n",
    "    # The input is a single string (a message), and \n",
    "    # the output is a single string (a preprocessed message)\n",
    "    #\n",
    "    # 1. Remove HTML\n",
    "    msg_text = BeautifulSoup(text).get_text() \n",
    "    #msg_text = re.sub( r'http[s]?://(?:[A-Za-z]|[0-9]|[$-_@.&+]|[!*\\(\\),]|(?:%[0-9A-Fa-f][0-9A-Fa-f]))+','',message)\n",
    "    # 2. Remove non-letters        \n",
    "    msg1 = re.sub(\"[^a-zA-Z]\", \" \", msg_text) \n",
    "    #\n",
    "    # 3. Convert to lower case, split into individual words\n",
    "    words = msg1.lower().split()                             \n",
    "    #\n",
    "    # 4. In Python, searching a set is much faster than searching\n",
    "    #   a list, so convert the stop words to a set\n",
    "    stop_words = set(stopwords.words(\"english\"))                  \n",
    "    # \n",
    "    # 5. Remove stop words\n",
    "    clean_words = [w for w in words if not w in stop_words] \n",
    "    #\n",
    "   \n",
    "    #st = SnowballStemmer('english')\n",
    "    #clean_msgs1=[st.stem(word) for word in r]\n",
    "    #lem = WordNetLemmatizer()\n",
    "    #clean_msgs2 = [lem.lemmatize(word) for word in clean_words]\n",
    "    \n",
    "    # 6. Join the words back into one string separated by space, \n",
    "    # and return the result.\n",
    "    return( \" \".join(clean_words))   \n"
   ]
  },
  {
   "cell_type": "code",
   "execution_count": 36,
   "id": "a21350e4",
   "metadata": {},
   "outputs": [],
   "source": [
    "# Get the number of messages based on the dataframe column size\n",
    "num_msgs = df[\"text\"].size\n",
    "\n",
    "# Initialize an empty list to hold the clean messagess\n",
    "clean_msgs = []\n",
    "\n",
    "# Loop over each message; create an index i that goes from 0 to the length\n",
    "# of the message list \n",
    "for i in range( 0, num_msgs ):\n",
    "    # Call our function for each one, and add the result to the list of\n",
    "    # clean messages\n",
    "    clean_msgs.append( msg_words( df[\"text\"][i] ) )"
   ]
  },
  {
   "cell_type": "code",
   "execution_count": 39,
   "id": "5d8873fd",
   "metadata": {},
   "outputs": [
    {
     "data": {
      "text/plain": [
       "['umgaqo siseko wenza amalungiselelo kumaziko axhasa ulawulo lwesininzi kunye nokuthath inxaxheba kwabafazi ezi ziquka phakathi kwezinye zazo ikomishoni yokulingana ngokwesini ikomishoni yamalungelo oluntu lomzantsi afrika',\n",
       " 'dha iya kuba nobulumko bokubeka umsebenzi naphi na kwisebe ngokusekwe kwiimfuno zokusebenza zalo emva kokubonana nomsebenzi kunye okanye imanyano yakhe ukuba ulandulo lomntu onjalo alufanelekanga dha mayibize uncedo olufanelekileyo elungelweni layo',\n",
       " 'province kwazulu natal department transport invites tenders established contractors experienced bridge construction construction kwajolwayo tugela river pedestrian bridge near tugela ferry duration project months',\n",
       " 'netefat gore ba file dilo ka moka e le dumelelanego ka ona mohlala maleri magolo omi wago go fihlelela meagong e metelele scaffolds bolokegilego lefelo la maleba la go omela go phela gabotse bjbj',\n",
       " 'khomishini ya ndinganyiso ya mbeu yo ewa maana u ya nga mulayo wa khomishini ya ndinganyiso ya mbeu u thetshelesa mbilaelo dzine dza tshimbilelana na tshialula u ya nga mbeu nahone ivhea sa foramu ya thungo u ya nga mulayo wa ndinganyiso']"
      ]
     },
     "execution_count": 39,
     "metadata": {},
     "output_type": "execute_result"
    }
   ],
   "source": [
    "clean_msgs[:5]"
   ]
  },
  {
   "cell_type": "code",
   "execution_count": 37,
   "id": "b0354fbc",
   "metadata": {},
   "outputs": [],
   "source": [
    "# Let's use the count vectorizer with its default hyperparameters\n",
    "vect = CountVectorizer()\n",
    "X_count = vect.fit_transform(df['text'].values.astype(str))"
   ]
  },
  {
   "cell_type": "code",
   "execution_count": 38,
   "id": "901277f6",
   "metadata": {},
   "outputs": [
    {
     "data": {
      "text/plain": [
       "(33000, 141958)"
      ]
     },
     "execution_count": 38,
     "metadata": {},
     "output_type": "execute_result"
    }
   ],
   "source": [
    "X_count.shape"
   ]
  },
  {
   "cell_type": "code",
   "execution_count": 40,
   "id": "b934d554",
   "metadata": {},
   "outputs": [],
   "source": [
    "vect_5000 = CountVectorizer(lowercase=True, max_features=5000,analyzer='word')\n",
    "X_count = vect_5000.fit_transform(df['text'].values.astype(str))"
   ]
  },
  {
   "cell_type": "code",
   "execution_count": 41,
   "id": "3f02baad",
   "metadata": {},
   "outputs": [],
   "source": [
    "X = X_count.toarray()"
   ]
  },
  {
   "cell_type": "code",
   "execution_count": 43,
   "id": "25b31ce9",
   "metadata": {},
   "outputs": [],
   "source": [
    "from sklearn.preprocessing import LabelEncoder\n",
    "le = LabelEncoder()\n",
    "# Fit label encoder and return encoded labels\n",
    "y = le.fit_transform(df['lang_id'])"
   ]
  },
  {
   "cell_type": "code",
   "execution_count": 44,
   "id": "b91d94d6",
   "metadata": {},
   "outputs": [
    {
     "data": {
      "text/plain": [
       "array([9, 9, 1, ..., 1, 9, 4])"
      ]
     },
     "execution_count": 44,
     "metadata": {},
     "output_type": "execute_result"
    }
   ],
   "source": [
    "y"
   ]
  },
  {
   "cell_type": "code",
   "execution_count": 45,
   "id": "8344acd3",
   "metadata": {},
   "outputs": [],
   "source": [
    "# List of label encoder types to use for lookup \n",
    "type_labels = list(le.classes_)"
   ]
  },
  {
   "cell_type": "code",
   "execution_count": 47,
   "id": "a457a39a",
   "metadata": {},
   "outputs": [],
   "source": [
    "X_train, X_test, y_train, y_test = train_test_split(X, y, test_size=0.2, random_state=42)"
   ]
  },
  {
   "cell_type": "code",
   "execution_count": 48,
   "id": "00664afa",
   "metadata": {},
   "outputs": [],
   "source": [
    "# Here 'ovr' indicates that we have selected our One-vs-Rest strategy. \n",
    "logreg = LogisticRegression(multi_class='ovr')"
   ]
  },
  {
   "cell_type": "code",
   "execution_count": 49,
   "id": "8c379eba",
   "metadata": {},
   "outputs": [
    {
     "data": {
      "text/plain": [
       "LogisticRegression(multi_class='ovr')"
      ]
     },
     "execution_count": 49,
     "metadata": {},
     "output_type": "execute_result"
    }
   ],
   "source": [
    "logreg.fit(X_train, y_train)"
   ]
  },
  {
   "cell_type": "code",
   "execution_count": 50,
   "id": "e5ace876",
   "metadata": {},
   "outputs": [],
   "source": [
    "# Generate predictions\n",
    "y_pred_test = logreg.predict(X_test)"
   ]
  },
  {
   "cell_type": "code",
   "execution_count": 64,
   "id": "ad01a4aa",
   "metadata": {},
   "outputs": [],
   "source": [
    "?f1_score"
   ]
  },
  {
   "cell_type": "code",
   "execution_count": 66,
   "id": "df2d7f92",
   "metadata": {},
   "outputs": [
    {
     "name": "stdout",
     "output_type": "stream",
     "text": [
      "f1 score: 0.9879149457660891\n"
     ]
    }
   ],
   "source": [
    "f1score = f1_score(y_test, y_pred_test, average= 'macro')\n",
    "print('f1 score:', f1score)"
   ]
  },
  {
   "cell_type": "code",
   "execution_count": 69,
   "id": "8321b643",
   "metadata": {},
   "outputs": [
    {
     "name": "stdout",
     "output_type": "stream",
     "text": [
      "(5682, 2)\n",
      "Cleaning and parsing the test set text...\n",
      "\n",
      "Review 1000 of 5682\n",
      "\n",
      "Review 2000 of 5682\n",
      "\n",
      "Review 3000 of 5682\n",
      "\n",
      "Review 4000 of 5682\n",
      "\n",
      "Review 5000 of 5682\n",
      "\n"
     ]
    }
   ],
   "source": [
    "# Read the test data\n",
    "test = pd.read_csv(\"test_set.csv\")\n",
    "\n",
    "# Verify that there are rows and 2 columns\n",
    "print (test.shape)\n",
    "\n",
    "# Create an empty list and append the text one by one\n",
    "num_msgs = len(test[\"text\"])\n",
    "clean_test_msgs = [] \n",
    "\n",
    "print (\"Cleaning and parsing the test set text...\\n\")\n",
    "for i in range(0,num_msgs):\n",
    "    if( (i+1) % 1000 == 0 ):\n",
    "        print (\"Review %d of %d\\n\" % (i+1, num_msgs))\n",
    "    clean_msg = msg_words( test[\"text\"][i] )\n",
    "    clean_test_msgs.append( clean_msg )\n",
    "\n",
    "# Get a bag of words for the test set, and convert to a numpy array\n",
    "test_data_features = vect_5000.transform(clean_test_msgs)\n",
    "test_data_features = test_data_features.toarray()\n",
    "\n",
    "# Use the random forest to make sentiment label predictions\n",
    "result = logreg.predict(test_data_features)\n",
    "\n",
    "# Copy the results to a pandas dataframe with an \"id\" column and\n",
    "# a \"sentiment\" column\n",
    "output = pd.DataFrame( data={\"index\":test[\"index\"], \"lang_id\":result} )\n",
    "\n",
    "# Use pandas to write the comma-separated output file\n",
    "output.to_csv( \"Hackathon1_logres.csv\", index=False, quoting=3 )"
   ]
  },
  {
   "cell_type": "code",
   "execution_count": null,
   "id": "b7dcbc21",
   "metadata": {},
   "outputs": [],
   "source": []
  }
 ],
 "metadata": {
  "kernelspec": {
   "display_name": "Python 3",
   "language": "python",
   "name": "python3"
  },
  "language_info": {
   "codemirror_mode": {
    "name": "ipython",
    "version": 3
   },
   "file_extension": ".py",
   "mimetype": "text/x-python",
   "name": "python",
   "nbconvert_exporter": "python",
   "pygments_lexer": "ipython3",
   "version": "3.8.8"
  }
 },
 "nbformat": 4,
 "nbformat_minor": 5
}
